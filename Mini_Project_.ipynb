{
  "nbformat": 4,
  "nbformat_minor": 0,
  "metadata": {
    "colab": {
      "name": "Mini Project .ipynb",
      "provenance": [],
      "collapsed_sections": [],
      "include_colab_link": true
    },
    "kernelspec": {
      "name": "python3",
      "display_name": "Python 3"
    },
    "language_info": {
      "name": "python"
    }
  },
  "cells": [
    {
      "cell_type": "markdown",
      "metadata": {
        "id": "view-in-github",
        "colab_type": "text"
      },
      "source": [
        "<a href=\"https://colab.research.google.com/github/BindhyaAllam/Mini-Project/blob/main/Mini_Project_.ipynb\" target=\"_parent\"><img src=\"https://colab.research.google.com/assets/colab-badge.svg\" alt=\"Open In Colab\"/></a>"
      ]
    },
    {
      "cell_type": "code",
      "metadata": {
        "id": "3vMQ20mwDcyg",
        "colab": {
          "base_uri": "https://localhost:8080/"
        },
        "outputId": "995299c5-24e4-42c0-85f0-5dba026a00d5"
      },
      "source": [
        "!pip install bing-image-downloader "
      ],
      "execution_count": null,
      "outputs": [
        {
          "output_type": "stream",
          "text": [
            "Collecting bing-image-downloader\n",
            "  Downloading https://files.pythonhosted.org/packages/0d/bf/537a61030b84ae4cd5022d5c7b014fd9bc3ce7c02358919153a6658a61d3/bing_image_downloader-1.0.4-py3-none-any.whl\n",
            "Installing collected packages: bing-image-downloader\n",
            "Successfully installed bing-image-downloader-1.0.4\n"
          ],
          "name": "stdout"
        }
      ]
    },
    {
      "cell_type": "code",
      "metadata": {
        "id": "lqH01Hv-W_Lw",
        "colab": {
          "base_uri": "https://localhost:8080/"
        },
        "outputId": "610953fe-248b-4555-9c8e-1b9a5a42f89c"
      },
      "source": [
        "!pip install ipython-autotime\n",
        "%load_ext autotime"
      ],
      "execution_count": null,
      "outputs": [
        {
          "output_type": "stream",
          "text": [
            "Collecting ipython-autotime\n",
            "  Downloading https://files.pythonhosted.org/packages/b4/c9/b413a24f759641bc27ef98c144b590023c8038dfb8a3f09e713e9dff12c1/ipython_autotime-0.3.1-py2.py3-none-any.whl\n",
            "Requirement already satisfied: ipython in /usr/local/lib/python3.7/dist-packages (from ipython-autotime) (5.5.0)\n",
            "Requirement already satisfied: decorator in /usr/local/lib/python3.7/dist-packages (from ipython->ipython-autotime) (4.4.2)\n",
            "Requirement already satisfied: simplegeneric>0.8 in /usr/local/lib/python3.7/dist-packages (from ipython->ipython-autotime) (0.8.1)\n",
            "Requirement already satisfied: pickleshare in /usr/local/lib/python3.7/dist-packages (from ipython->ipython-autotime) (0.7.5)\n",
            "Requirement already satisfied: setuptools>=18.5 in /usr/local/lib/python3.7/dist-packages (from ipython->ipython-autotime) (56.1.0)\n",
            "Requirement already satisfied: pexpect; sys_platform != \"win32\" in /usr/local/lib/python3.7/dist-packages (from ipython->ipython-autotime) (4.8.0)\n",
            "Requirement already satisfied: pygments in /usr/local/lib/python3.7/dist-packages (from ipython->ipython-autotime) (2.6.1)\n",
            "Requirement already satisfied: traitlets>=4.2 in /usr/local/lib/python3.7/dist-packages (from ipython->ipython-autotime) (5.0.5)\n",
            "Requirement already satisfied: prompt-toolkit<2.0.0,>=1.0.4 in /usr/local/lib/python3.7/dist-packages (from ipython->ipython-autotime) (1.0.18)\n",
            "Requirement already satisfied: ptyprocess>=0.5 in /usr/local/lib/python3.7/dist-packages (from pexpect; sys_platform != \"win32\"->ipython->ipython-autotime) (0.7.0)\n",
            "Requirement already satisfied: ipython-genutils in /usr/local/lib/python3.7/dist-packages (from traitlets>=4.2->ipython->ipython-autotime) (0.2.0)\n",
            "Requirement already satisfied: six>=1.9.0 in /usr/local/lib/python3.7/dist-packages (from prompt-toolkit<2.0.0,>=1.0.4->ipython->ipython-autotime) (1.15.0)\n",
            "Requirement already satisfied: wcwidth in /usr/local/lib/python3.7/dist-packages (from prompt-toolkit<2.0.0,>=1.0.4->ipython->ipython-autotime) (0.2.5)\n",
            "Installing collected packages: ipython-autotime\n",
            "Successfully installed ipython-autotime-0.3.1\n",
            "time: 163 µs (started: 2021-05-24 02:37:57 +00:00)\n"
          ],
          "name": "stdout"
        }
      ]
    },
    {
      "cell_type": "code",
      "metadata": {
        "id": "kWBC9j1yF1MG",
        "colab": {
          "base_uri": "https://localhost:8080/"
        },
        "outputId": "2658a5cf-8fcc-4780-926b-0db42f046de7"
      },
      "source": [
        "!mkdir images\n",
        "#Making a directory with name image "
      ],
      "execution_count": null,
      "outputs": [
        {
          "output_type": "stream",
          "text": [
            "time: 119 ms (started: 2021-05-24 02:38:02 +00:00)\n"
          ],
          "name": "stdout"
        }
      ]
    },
    {
      "cell_type": "code",
      "metadata": {
        "id": "RDhctoGJH4KD"
      },
      "source": [
        ""
      ],
      "execution_count": null,
      "outputs": []
    },
    {
      "cell_type": "code",
      "metadata": {
        "id": "9xSFFoBrNCJW",
        "colab": {
          "base_uri": "https://localhost:8080/"
        },
        "outputId": "8ddeccae-75dd-4e4e-9f1d-30a403db13e0"
      },
      "source": [
        "from bing_image_downloader import downloader \n",
        "downloader.download(\"Dolphin jumping\", limit = 30 , output_dir='images ', adult_filter_off= False)"
      ],
      "execution_count": null,
      "outputs": [
        {
          "output_type": "stream",
          "text": [
            "\n",
            "\n",
            "[!!]Indexing page: 1\n",
            "\n",
            "[%] Indexed 16 Images on Page 1.\n",
            "\n",
            "===============================================\n",
            "\n",
            "[%] Downloading Image #1 from http://4.bp.blogspot.com/-hiewm_aLnVM/UDmg4EhNbLI/AAAAAAAABWw/L4yW_AEBEo8/s1600/jumping_dolphins_wallpaper-1024x768.jpg\n",
            "[%] File Downloaded !\n",
            "\n",
            "[%] Downloading Image #2 from http://www.diduknowonline.com/wp-content/uploads/2015/10/pink-Dolphins-fatcs.jpg\n",
            "[%] File Downloaded !\n",
            "\n",
            "[%] Downloading Image #3 from https://www.spirit-animals.com/wp-content/uploads/2012/09/Dolphin.jpg\n",
            "[%] File Downloaded !\n",
            "\n",
            "[%] Downloading Image #4 from https://www.babyanimalzoo.com/wp-content/uploads/2012/07/Baby-Dolphin-5552.jpg\n",
            "[%] File Downloaded !\n",
            "\n",
            "[%] Downloading Image #5 from http://bestanimations.com/Animals/Mammals/Dolphins/dolphin/dolphin-animated-gif-11.gif\n",
            "[%] File Downloaded !\n",
            "\n",
            "[%] Downloading Image #6 from https://www.bing.com/th/id/OGC.c07e39a274f1c9af7addbf4358009373?pid=1.7&amp;rurl=http%3a%2f%2fbestanimations.com%2fAnimals%2fMammals%2fDolphins%2fdolphin%2fdolphin-animated-gif-11.gif&amp;ehk=V3D9%2bT9nUqA8ZcuhGhwSgdDaeSDChzsh%2fS2x6%2bKDyyc%3d\n",
            "[!] Issue getting: https://www.bing.com/th/id/OGC.c07e39a274f1c9af7addbf4358009373?pid=1.7&amp;rurl=http%3a%2f%2fbestanimations.com%2fAnimals%2fMammals%2fDolphins%2fdolphin%2fdolphin-animated-gif-11.gif&amp;ehk=V3D9%2bT9nUqA8ZcuhGhwSgdDaeSDChzsh%2fS2x6%2bKDyyc%3d\n",
            "[!] Error:: HTTP Error 404: Not Found\n",
            "[%] Downloading Image #6 from https://bestanimations.com/Animals/Mammals/Dolphins/dolphin/dolphin-animated-gif-5.gif\n",
            "[%] File Downloaded !\n",
            "\n",
            "[%] Downloading Image #7 from https://www.bing.com/th/id/OGC.76f828e55621037a9de33db5e27ffcc2?pid=1.7&amp;rurl=https%3a%2f%2fbestanimations.com%2fAnimals%2fMammals%2fDolphins%2fdolphin%2fdolphin-animated-gif-5.gif&amp;ehk=leeswWABCDVV%2fA5aolxVpesM0tcQiGgBE3xIbQi%2byTg%3d\n",
            "[!] Issue getting: https://www.bing.com/th/id/OGC.76f828e55621037a9de33db5e27ffcc2?pid=1.7&amp;rurl=https%3a%2f%2fbestanimations.com%2fAnimals%2fMammals%2fDolphins%2fdolphin%2fdolphin-animated-gif-5.gif&amp;ehk=leeswWABCDVV%2fA5aolxVpesM0tcQiGgBE3xIbQi%2byTg%3d\n",
            "[!] Error:: HTTP Error 404: Not Found\n",
            "[%] Downloading Image #7 from https://bestanimations.com/Animals/Mammals/Dolphins/animated-dolphin-gif-1.gif\n",
            "[%] File Downloaded !\n",
            "\n",
            "[%] Downloading Image #8 from https://www.bing.com/th/id/OGC.a20b4c27fdd95b45b4bcff9ab3f80ae0?pid=1.7&amp;rurl=https%3a%2f%2fbestanimations.com%2fAnimals%2fMammals%2fDolphins%2fanimated-dolphin-gif-1.gif&amp;ehk=X5LpaJaIRFAJe2sTccJ4nzNxNiX0QPw86adpbBhB%2bJA%3d\n",
            "[!] Issue getting: https://www.bing.com/th/id/OGC.a20b4c27fdd95b45b4bcff9ab3f80ae0?pid=1.7&amp;rurl=https%3a%2f%2fbestanimations.com%2fAnimals%2fMammals%2fDolphins%2fanimated-dolphin-gif-1.gif&amp;ehk=X5LpaJaIRFAJe2sTccJ4nzNxNiX0QPw86adpbBhB%2bJA%3d\n",
            "[!] Error:: HTTP Error 404: Not Found\n",
            "[%] Downloading Image #8 from https://bestanimations.com/Animals/Mammals/Dolphins/dolphin/dolphin-animated-gif-22.gif\n",
            "[%] File Downloaded !\n",
            "\n",
            "[%] Downloading Image #9 from https://www.bing.com/th/id/OGC.9d8c1913395fac1a36fcc88c90c803c3?pid=1.7&amp;rurl=https%3a%2f%2fbestanimations.com%2fAnimals%2fMammals%2fDolphins%2fdolphin%2fdolphin-animated-gif-22.gif&amp;ehk=faxjzVg6aBf9SKGmF01%2fBNr%2bL2uQGT%2bReAOBs5i4GQA%3d\n",
            "[!] Issue getting: https://www.bing.com/th/id/OGC.9d8c1913395fac1a36fcc88c90c803c3?pid=1.7&amp;rurl=https%3a%2f%2fbestanimations.com%2fAnimals%2fMammals%2fDolphins%2fdolphin%2fdolphin-animated-gif-22.gif&amp;ehk=faxjzVg6aBf9SKGmF01%2fBNr%2bL2uQGT%2bReAOBs5i4GQA%3d\n",
            "[!] Error:: HTTP Error 404: Not Found\n",
            "[%] Downloading Image #9 from http://bestanimations.com/Animals/Mammals/Dolphins/dolphin/dolphin-animated-gif-17.gif\n",
            "[%] File Downloaded !\n",
            "\n",
            "[%] Downloading Image #10 from https://www.bing.com/th/id/OGC.53dc79998283ccdafba61c719a51791a?pid=1.7&amp;rurl=http%3a%2f%2fbestanimations.com%2fAnimals%2fMammals%2fDolphins%2fdolphin%2fdolphin-animated-gif-17.gif&amp;ehk=X7XT8SI6tDvgKEyCdooMuTvEDpT3wjvT9xSfupigZuU%3d\n",
            "[!] Issue getting: https://www.bing.com/th/id/OGC.53dc79998283ccdafba61c719a51791a?pid=1.7&amp;rurl=http%3a%2f%2fbestanimations.com%2fAnimals%2fMammals%2fDolphins%2fdolphin%2fdolphin-animated-gif-17.gif&amp;ehk=X7XT8SI6tDvgKEyCdooMuTvEDpT3wjvT9xSfupigZuU%3d\n",
            "[!] Error:: HTTP Error 404: Not Found\n",
            "[%] Downloading Image #10 from http://bestanimations.com/Animals/Mammals/Dolphins/dolphin/dolphin-animated-gif-33.gif\n",
            "[%] File Downloaded !\n",
            "\n",
            "[%] Downloading Image #11 from https://www.bing.com/th/id/OGC.95981ae51a5bee817eaebe9d6bde3937?pid=1.7&amp;rurl=http%3a%2f%2fbestanimations.com%2fAnimals%2fMammals%2fDolphins%2fdolphin%2fdolphin-animated-gif-33.gif&amp;ehk=P6tNcbzL7eG1Jz2ItP3ymXO9EpinayNkO8wzuSRn%2f98%3d\n",
            "[!] Issue getting: https://www.bing.com/th/id/OGC.95981ae51a5bee817eaebe9d6bde3937?pid=1.7&amp;rurl=http%3a%2f%2fbestanimations.com%2fAnimals%2fMammals%2fDolphins%2fdolphin%2fdolphin-animated-gif-33.gif&amp;ehk=P6tNcbzL7eG1Jz2ItP3ymXO9EpinayNkO8wzuSRn%2f98%3d\n",
            "[!] Error:: HTTP Error 404: Not Found\n",
            "\n",
            "\n",
            "[!!]Indexing page: 2\n",
            "\n",
            "[%] Indexed 13 Images on Page 2.\n",
            "\n",
            "===============================================\n",
            "\n",
            "[%] Downloading Image #11 from https://www.thoughtco.com/thmb/wd2li3EZmoTz-UU-WJd-SyXwwHc=/5130x3412/filters:fill(auto,1)/two-bottlenose-dolphins-leaping-from-the-water-dv1689001-5bfc567a46e0fb0026652224.jpg\n",
            "[%] File Downloaded !\n",
            "\n",
            "[%] Downloading Image #12 from http://safaricharters.com/wp-content/uploads/pDolphin-In-Air-768x1024.jpg\n",
            "[%] File Downloaded !\n",
            "\n",
            "[%] Downloading Image #13 from http://i.ytimg.com/vi/IP5Gaticbc4/maxresdefault.jpg\n",
            "[%] File Downloaded !\n",
            "\n",
            "[%] Downloading Image #14 from https://bestanimations.com/Animals/Mammals/Dolphins/dolphin/dolphin-animated-gif-33.gif\n",
            "[%] File Downloaded !\n",
            "\n",
            "[%] Downloading Image #15 from https://www.bing.com/th/id/OGC.95981ae51a5bee817eaebe9d6bde3937?pid=1.7&amp;rurl=https%3a%2f%2fbestanimations.com%2fAnimals%2fMammals%2fDolphins%2fdolphin%2fdolphin-animated-gif-33.gif&amp;ehk=p0zP8FZxlj6iiPM%2fYzkmRfO1eFKL2TpIP1ANTPFBF%2fo%3d\n",
            "[!] Issue getting: https://www.bing.com/th/id/OGC.95981ae51a5bee817eaebe9d6bde3937?pid=1.7&amp;rurl=https%3a%2f%2fbestanimations.com%2fAnimals%2fMammals%2fDolphins%2fdolphin%2fdolphin-animated-gif-33.gif&amp;ehk=p0zP8FZxlj6iiPM%2fYzkmRfO1eFKL2TpIP1ANTPFBF%2fo%3d\n",
            "[!] Error:: HTTP Error 404: Not Found\n",
            "[%] Downloading Image #15 from https://i.pinimg.com/originals/68/5c/51/685c51e7344417a3f045f99cc66bd614.jpg\n",
            "[%] File Downloaded !\n",
            "\n",
            "[%] Downloading Image #16 from http://bestanimations.com/Animals/Mammals/Dolphins/dolphin/dolphin-animated-gif-21.gif\n",
            "[%] File Downloaded !\n",
            "\n",
            "[%] Downloading Image #17 from https://www.bing.com/th/id/OGC.ec8b7c9708ff2941d98c02d64349678d?pid=1.7&amp;rurl=http%3a%2f%2fbestanimations.com%2fAnimals%2fMammals%2fDolphins%2fdolphin%2fdolphin-animated-gif-21.gif&amp;ehk=jYqNqVms6BfNfGLV8rAJH%2fZJOXR5%2fEaYQQQMHWqTue4%3d\n",
            "[!] Issue getting: https://www.bing.com/th/id/OGC.ec8b7c9708ff2941d98c02d64349678d?pid=1.7&amp;rurl=http%3a%2f%2fbestanimations.com%2fAnimals%2fMammals%2fDolphins%2fdolphin%2fdolphin-animated-gif-21.gif&amp;ehk=jYqNqVms6BfNfGLV8rAJH%2fZJOXR5%2fEaYQQQMHWqTue4%3d\n",
            "[!] Error:: HTTP Error 404: Not Found\n",
            "[%] Downloading Image #17 from https://thumbs.dreamstime.com/z/jumping-dolphin-isolated-white-22761316.jpg\n",
            "[%] File Downloaded !\n",
            "\n",
            "[%] Downloading Image #18 from https://bestanimations.com/Animals/Mammals/Dolphins/dolphin/dolphin-animated-gif-11.gif\n",
            "[%] File Downloaded !\n",
            "\n",
            "[%] Downloading Image #19 from https://www.bing.com/th/id/OGC.c07e39a274f1c9af7addbf4358009373?pid=1.7&amp;rurl=https%3a%2f%2fbestanimations.com%2fAnimals%2fMammals%2fDolphins%2fdolphin%2fdolphin-animated-gif-11.gif&amp;ehk=8Dh%2fJ5EHegx0S5TL%2fjeP8nQCVowOLONj6KgN6xZ2YGs%3d\n",
            "[!] Issue getting: https://www.bing.com/th/id/OGC.c07e39a274f1c9af7addbf4358009373?pid=1.7&amp;rurl=https%3a%2f%2fbestanimations.com%2fAnimals%2fMammals%2fDolphins%2fdolphin%2fdolphin-animated-gif-11.gif&amp;ehk=8Dh%2fJ5EHegx0S5TL%2fjeP8nQCVowOLONj6KgN6xZ2YGs%3d\n",
            "[!] Error:: HTTP Error 404: Not Found\n",
            "[%] Downloading Image #19 from https://www.wallpapers13.com/wp-content/uploads/2016/07/Dolphins-Coral-starfish-rays-sunlight-Desktop-HD-Wallpapers-for-mobile-phones-and-computer-2560x1440.jpg\n",
            "[%] File Downloaded !\n",
            "\n",
            "[%] Downloading Image #20 from https://i.pinimg.com/736x/da/89/53/da895310a9473716e3f4deaf0d2d0a7c--card-birthday-animal-kingdom.jpg\n",
            "[%] File Downloaded !\n",
            "\n",
            "\n",
            "\n",
            "[!!]Indexing page: 3\n",
            "\n",
            "[%] Indexed 15 Images on Page 3.\n",
            "\n",
            "===============================================\n",
            "\n",
            "[%] Downloading Image #21 from http://www.diduknowonline.com/wp-content/uploads/2015/10/pink-Dolphins-fatcs.jpg\n",
            "[%] File Downloaded !\n",
            "\n",
            "[%] Downloading Image #22 from https://www.spirit-animals.com/wp-content/uploads/2012/09/Dolphin.jpg\n",
            "[%] File Downloaded !\n",
            "\n",
            "[%] Downloading Image #23 from https://www.babyanimalzoo.com/wp-content/uploads/2012/07/Baby-Dolphin-5552.jpg\n",
            "[%] File Downloaded !\n",
            "\n",
            "[%] Downloading Image #24 from http://bestanimations.com/Animals/Mammals/Dolphins/dolphin/dolphin-animated-gif-11.gif\n",
            "[%] File Downloaded !\n",
            "\n",
            "[%] Downloading Image #25 from https://www.bing.com/th/id/OGC.c07e39a274f1c9af7addbf4358009373?pid=1.7&amp;rurl=http%3a%2f%2fbestanimations.com%2fAnimals%2fMammals%2fDolphins%2fdolphin%2fdolphin-animated-gif-11.gif&amp;ehk=V3D9%2bT9nUqA8ZcuhGhwSgdDaeSDChzsh%2fS2x6%2bKDyyc%3d\n",
            "[!] Issue getting: https://www.bing.com/th/id/OGC.c07e39a274f1c9af7addbf4358009373?pid=1.7&amp;rurl=http%3a%2f%2fbestanimations.com%2fAnimals%2fMammals%2fDolphins%2fdolphin%2fdolphin-animated-gif-11.gif&amp;ehk=V3D9%2bT9nUqA8ZcuhGhwSgdDaeSDChzsh%2fS2x6%2bKDyyc%3d\n",
            "[!] Error:: HTTP Error 404: Not Found\n",
            "[%] Downloading Image #25 from https://bestanimations.com/Animals/Mammals/Dolphins/dolphin/dolphin-animated-gif-5.gif\n",
            "[%] File Downloaded !\n",
            "\n",
            "[%] Downloading Image #26 from https://www.bing.com/th/id/OGC.76f828e55621037a9de33db5e27ffcc2?pid=1.7&amp;rurl=https%3a%2f%2fbestanimations.com%2fAnimals%2fMammals%2fDolphins%2fdolphin%2fdolphin-animated-gif-5.gif&amp;ehk=leeswWABCDVV%2fA5aolxVpesM0tcQiGgBE3xIbQi%2byTg%3d\n",
            "[!] Issue getting: https://www.bing.com/th/id/OGC.76f828e55621037a9de33db5e27ffcc2?pid=1.7&amp;rurl=https%3a%2f%2fbestanimations.com%2fAnimals%2fMammals%2fDolphins%2fdolphin%2fdolphin-animated-gif-5.gif&amp;ehk=leeswWABCDVV%2fA5aolxVpesM0tcQiGgBE3xIbQi%2byTg%3d\n",
            "[!] Error:: HTTP Error 404: Not Found\n",
            "[%] Downloading Image #26 from https://bestanimations.com/Animals/Mammals/Dolphins/animated-dolphin-gif-1.gif\n",
            "[%] File Downloaded !\n",
            "\n",
            "[%] Downloading Image #27 from https://www.bing.com/th/id/OGC.a20b4c27fdd95b45b4bcff9ab3f80ae0?pid=1.7&amp;rurl=https%3a%2f%2fbestanimations.com%2fAnimals%2fMammals%2fDolphins%2fanimated-dolphin-gif-1.gif&amp;ehk=X5LpaJaIRFAJe2sTccJ4nzNxNiX0QPw86adpbBhB%2bJA%3d\n",
            "[!] Issue getting: https://www.bing.com/th/id/OGC.a20b4c27fdd95b45b4bcff9ab3f80ae0?pid=1.7&amp;rurl=https%3a%2f%2fbestanimations.com%2fAnimals%2fMammals%2fDolphins%2fanimated-dolphin-gif-1.gif&amp;ehk=X5LpaJaIRFAJe2sTccJ4nzNxNiX0QPw86adpbBhB%2bJA%3d\n",
            "[!] Error:: HTTP Error 404: Not Found\n",
            "[%] Downloading Image #27 from https://bestanimations.com/Animals/Mammals/Dolphins/dolphin/dolphin-animated-gif-22.gif\n",
            "[%] File Downloaded !\n",
            "\n",
            "[%] Downloading Image #28 from https://www.bing.com/th/id/OGC.9d8c1913395fac1a36fcc88c90c803c3?pid=1.7&amp;rurl=https%3a%2f%2fbestanimations.com%2fAnimals%2fMammals%2fDolphins%2fdolphin%2fdolphin-animated-gif-22.gif&amp;ehk=faxjzVg6aBf9SKGmF01%2fBNr%2bL2uQGT%2bReAOBs5i4GQA%3d\n",
            "[!] Issue getting: https://www.bing.com/th/id/OGC.9d8c1913395fac1a36fcc88c90c803c3?pid=1.7&amp;rurl=https%3a%2f%2fbestanimations.com%2fAnimals%2fMammals%2fDolphins%2fdolphin%2fdolphin-animated-gif-22.gif&amp;ehk=faxjzVg6aBf9SKGmF01%2fBNr%2bL2uQGT%2bReAOBs5i4GQA%3d\n",
            "[!] Error:: HTTP Error 404: Not Found\n",
            "[%] Downloading Image #28 from http://bestanimations.com/Animals/Mammals/Dolphins/dolphin/dolphin-animated-gif-17.gif\n",
            "[%] File Downloaded !\n",
            "\n",
            "[%] Downloading Image #29 from https://www.bing.com/th/id/OGC.53dc79998283ccdafba61c719a51791a?pid=1.7&amp;rurl=http%3a%2f%2fbestanimations.com%2fAnimals%2fMammals%2fDolphins%2fdolphin%2fdolphin-animated-gif-17.gif&amp;ehk=X7XT8SI6tDvgKEyCdooMuTvEDpT3wjvT9xSfupigZuU%3d\n",
            "[!] Issue getting: https://www.bing.com/th/id/OGC.53dc79998283ccdafba61c719a51791a?pid=1.7&amp;rurl=http%3a%2f%2fbestanimations.com%2fAnimals%2fMammals%2fDolphins%2fdolphin%2fdolphin-animated-gif-17.gif&amp;ehk=X7XT8SI6tDvgKEyCdooMuTvEDpT3wjvT9xSfupigZuU%3d\n",
            "[!] Error:: HTTP Error 404: Not Found\n",
            "[%] Downloading Image #29 from http://bestanimations.com/Animals/Mammals/Dolphins/dolphin/dolphin-animated-gif-33.gif\n",
            "[%] File Downloaded !\n",
            "\n",
            "[%] Downloading Image #30 from https://www.bing.com/th/id/OGC.95981ae51a5bee817eaebe9d6bde3937?pid=1.7&amp;rurl=http%3a%2f%2fbestanimations.com%2fAnimals%2fMammals%2fDolphins%2fdolphin%2fdolphin-animated-gif-33.gif&amp;ehk=P6tNcbzL7eG1Jz2ItP3ymXO9EpinayNkO8wzuSRn%2f98%3d\n",
            "[!] Issue getting: https://www.bing.com/th/id/OGC.95981ae51a5bee817eaebe9d6bde3937?pid=1.7&amp;rurl=http%3a%2f%2fbestanimations.com%2fAnimals%2fMammals%2fDolphins%2fdolphin%2fdolphin-animated-gif-33.gif&amp;ehk=P6tNcbzL7eG1Jz2ItP3ymXO9EpinayNkO8wzuSRn%2f98%3d\n",
            "[!] Error:: HTTP Error 404: Not Found\n",
            "\n",
            "\n",
            "[!!]Indexing page: 4\n",
            "\n",
            "[%] Indexed 14 Images on Page 4.\n",
            "\n",
            "===============================================\n",
            "\n",
            "[%] Downloading Image #30 from https://www.spirit-animals.com/wp-content/uploads/2012/09/Dolphin.jpg\n",
            "[%] File Downloaded !\n",
            "\n",
            "\n",
            "\n",
            "[%] Done. Downloaded 30 images.\n",
            "\n",
            "===============================================\n",
            "\n",
            "time: 9 s (started: 2021-05-24 02:56:51 +00:00)\n"
          ],
          "name": "stdout"
        }
      ]
    },
    {
      "cell_type": "code",
      "metadata": {
        "id": "HZrr92bcN-Uv",
        "colab": {
          "base_uri": "https://localhost:8080/"
        },
        "outputId": "0c07afcf-a7ae-499a-bc5b-e64044d21ff9"
      },
      "source": [
        "from bing_image_downloader import downloader\n",
        "downloader.download(\"cute Cat\", limit = 30 , output_dir='images ', adult_filter_off= True)"
      ],
      "execution_count": null,
      "outputs": [
        {
          "output_type": "stream",
          "text": [
            "\n",
            "\n",
            "[!!]Indexing page: 1\n",
            "\n",
            "[%] Indexed 11 Images on Page 1.\n",
            "\n",
            "===============================================\n",
            "\n",
            "[%] Downloading Image #1 from https://www.htcn.fr/blog/wp-content/uploads/2017/03/very-cute-kitty-wallpaper-background-576x1024.jpeg\n",
            "[Error]Invalid image, not saving https://www.htcn.fr/blog/wp-content/uploads/2017/03/very-cute-kitty-wallpaper-background-576x1024.jpeg\n",
            "\n",
            "[!] Issue getting: https://www.htcn.fr/blog/wp-content/uploads/2017/03/very-cute-kitty-wallpaper-background-576x1024.jpeg\n",
            "[!] Error:: No active exception to reraise\n",
            "[%] Downloading Image #1 from http://sonailicious.com/wp-content/uploads/2013/10/halloween-nail-art-2.jpg\n",
            "[%] File Downloaded !\n",
            "\n",
            "[%] Downloading Image #2 from https://designbump.com/wp-content/uploads/2014/09/funny-jumping-cats-94__880.jpg\n",
            "[%] File Downloaded !\n",
            "\n",
            "[%] Downloading Image #3 from https://breakbrunch.com/wp-content/uploads/2020/04/bikini-girl-5e9905f6061e400b6.jpg\n",
            "[%] File Downloaded !\n",
            "\n",
            "[%] Downloading Image #4 from http://cdn.goodshomedesign.com/wp-content/uploads/2013/12/book-christmas-tree-8.jpg\n",
            "[%] File Downloaded !\n",
            "\n",
            "[%] Downloading Image #5 from https://ilikecatsverymuch.com/wp-content/uploads/2020/09/Cat-wallpaper-phone-september-2020-thumbnail-4-scaled.jpg\n",
            "[%] File Downloaded !\n",
            "\n",
            "[%] Downloading Image #6 from https://www.barnorama.com/wp-content/uploads/2016/11/04-underwater_lake.jpg\n",
            "[%] File Downloaded !\n",
            "\n",
            "[%] Downloading Image #7 from https://wanna-joke.com/wp-content/uploads/2014/10/funny-gif-cat-staring.gif\n",
            "[%] File Downloaded !\n",
            "\n",
            "[%] Downloading Image #8 from https://www.bing.com/th/id/OGC.f7a42d6f95bb51f9cdca57c2b8bf64a1?pid=1.7&amp;rurl=https%3a%2f%2fwanna-joke.com%2fwp-content%2fuploads%2f2014%2f10%2ffunny-gif-cat-staring.gif&amp;ehk=qlF4eSJeKFFSvvlAv48lL24vRL5QY%2bZZfL4ZpM4Wb58%3d\n",
            "[!] Issue getting: https://www.bing.com/th/id/OGC.f7a42d6f95bb51f9cdca57c2b8bf64a1?pid=1.7&amp;rurl=https%3a%2f%2fwanna-joke.com%2fwp-content%2fuploads%2f2014%2f10%2ffunny-gif-cat-staring.gif&amp;ehk=qlF4eSJeKFFSvvlAv48lL24vRL5QY%2bZZfL4ZpM4Wb58%3d\n",
            "[!] Error:: HTTP Error 404: Not Found\n",
            "[%] Downloading Image #8 from https://breakbrunch.com/wp-content/uploads/2019/10/cute-girl-in-short-shorts-102419-10.jpg\n",
            "[%] File Downloaded !\n",
            "\n",
            "[%] Downloading Image #9 from https://breakbrunch.com/wp-content/uploads/2020/04/league-of-legends-ahri-cosplay-lada-lyumos-5e95338524fa73e19.jpg\n",
            "[%] File Downloaded !\n",
            "\n",
            "\n",
            "\n",
            "[!!]Indexing page: 2\n",
            "\n",
            "[%] Indexed 10 Images on Page 2.\n",
            "\n",
            "===============================================\n",
            "\n",
            "[%] Downloading Image #10 from http://www.animals-zone.com/wp-content/uploads/2014/04/angry-cat.jpg\n",
            "[%] File Downloaded !\n",
            "\n",
            "[%] Downloading Image #11 from http://wanna-joke.com/wp-content/uploads/2014/01/funny-picture-sniper-cat.jpg\n",
            "[%] File Downloaded !\n",
            "\n",
            "[%] Downloading Image #12 from http://www.trendzified.net/wp-content/uploads/2014/10/2wn64-cats12.jpg\n",
            "[%] File Downloaded !\n",
            "\n",
            "[%] Downloading Image #13 from https://www.hdwallpapers.in/download/tigers_playing-1366x768.jpg\n",
            "[%] File Downloaded !\n",
            "\n",
            "[%] Downloading Image #14 from https://images.designtrends.com/wp-content/uploads/2016/01/04121601/Black-and-Grey-Mirror-Tattoo.jpg\n",
            "[%] File Downloaded !\n",
            "\n",
            "[%] Downloading Image #15 from https://www.sunnyskyz.com/uploads/2015/02/uhwr0-21-Liowl.jpg\n",
            "[%] File Downloaded !\n",
            "\n",
            "[%] Downloading Image #16 from http://cute-n-tiny.com/wp-content/uploads/2009/11/small_baby_raccoon2.jpg\n",
            "[%] File Downloaded !\n",
            "\n",
            "[%] Downloading Image #17 from https://www.luvbat.com/uploads/funny_dog_hugs_toy_1369707835.jpg\n",
            "[%] File Downloaded !\n",
            "\n",
            "[%] Downloading Image #18 from https://breakbrunch.com/wp-content/uploads/2020/04/bikini-girl-5e99060aae051af56.jpg\n",
            "[%] File Downloaded !\n",
            "\n",
            "[%] Downloading Image #19 from https://assets.rbl.ms/4143018/980x.jpg\n",
            "[%] File Downloaded !\n",
            "\n",
            "\n",
            "\n",
            "[!!]Indexing page: 3\n",
            "\n",
            "[%] Indexed 9 Images on Page 3.\n",
            "\n",
            "===============================================\n",
            "\n",
            "[%] Downloading Image #20 from http://meowaum.com/images/pics/1250/02-cute-cat-begging.png\n",
            "[%] File Downloaded !\n",
            "\n",
            "[%] Downloading Image #21 from https://i.pinimg.com/736x/31/d3/92/31d392e6cefc8b6097b52e4c0352e74a--i-love-dogs-big-dogs.jpg\n",
            "[%] File Downloaded !\n",
            "\n",
            "[%] Downloading Image #22 from https://www.top13.net/wp-content/uploads/2016/02/japanese-grumpy-cat-3.jpg\n",
            "[%] File Downloaded !\n",
            "\n",
            "[%] Downloading Image #23 from http://www.trendzified.net/wp-content/uploads/2014/10/upnqw-cats7.jpg\n",
            "[%] File Downloaded !\n",
            "\n",
            "[%] Downloading Image #24 from http://imgs.abduzeedo.com/files/articles/baby-animals/Baby-Animals-028.jpg\n",
            "[%] File Downloaded !\n",
            "\n",
            "[%] Downloading Image #25 from https://www.dogbreedslist.info/dog-wallpapers/Golden-Retriever-puppy-cute-paws-720x1280.jpg\n",
            "[%] File Downloaded !\n",
            "\n",
            "[%] Downloading Image #26 from https://breakbrunch.com/wp-content/uploads/2019/11/rocksylight-cosplay-picture-sinoalice-112519-11.jpg\n",
            "[%] File Downloaded !\n",
            "\n",
            "[%] Downloading Image #27 from https://www.digsdigs.com/photos/creative-and-cozy-cat-beds-9-554x831.jpg\n",
            "[%] File Downloaded !\n",
            "\n",
            "[%] Downloading Image #28 from https://weneedfun.com/wp-content/uploads/2016/08/Music-Wallpapers-for-Mobile-Phones-32.jpg\n",
            "[%] File Downloaded !\n",
            "\n",
            "\n",
            "\n",
            "[!!]Indexing page: 4\n",
            "\n",
            "[%] Indexed 8 Images on Page 4.\n",
            "\n",
            "===============================================\n",
            "\n",
            "[%] Downloading Image #29 from https://tailandfur.com/wp-content/uploads/2014/03/cats-being-naughty-20.jpg\n",
            "[%] File Downloaded !\n",
            "\n",
            "[%] Downloading Image #30 from http://www.trendzified.net/wp-content/uploads/2014/10/z9bms-cats1.jpg\n",
            "[%] File Downloaded !\n",
            "\n",
            "\n",
            "\n",
            "[%] Done. Downloaded 30 images.\n",
            "\n",
            "===============================================\n",
            "\n",
            "time: 15.5 s (started: 2021-05-24 02:57:50 +00:00)\n"
          ],
          "name": "stdout"
        }
      ]
    },
    {
      "cell_type": "code",
      "metadata": {
        "id": "4bvR5dbyOxYK",
        "colab": {
          "base_uri": "https://localhost:8080/"
        },
        "outputId": "3dbee6af-f11f-47c8-b1d2-fc2cef192b9b"
      },
      "source": [
        "# Preprocessing Data\n",
        "#Step 1 - Resizing\n",
        "#Step 2 - Flatting data\n",
        "\n",
        "#importing libraries\n",
        "\n",
        "import os \n",
        "import matplotlib.pyplot as plt \n",
        "import numpy as np \n",
        "from skimage.io import imread \n",
        "from skimage.transform import resize  #to resize images \n",
        "\n",
        "target = []\n",
        "images = []\n",
        "flat_data = []\n",
        "\n",
        "DATADIR = '/content/images '\n",
        "CATEGORIES = ['Dolphin jumping','cute Cat']\n",
        "\n",
        "for category in CATEGORIES:   #To iterate in categories\n",
        "   class_num = CATEGORIES.index(category)  #Labelling categories for easy access\n",
        "   path = os.path.join(DATADIR,category)   #creating a path to iterate via images\n",
        "   for img in os.listdir(path):\n",
        "     img_array = imread(os.path.join(path,img))  #reading images\n",
        "     img_resized = resize(img_array,(150,150,3)) #resizing images\n",
        "     flat_data.append(img_resized.flatten())     #flattening images\n",
        "     images.append(img_resized)\n",
        "     target.append(class_num)\n",
        "\n",
        "flat_data = np.array(flat_data)\n",
        "target = np.array(target)\n",
        "images = np.array(images)\n"
      ],
      "execution_count": null,
      "outputs": [
        {
          "output_type": "stream",
          "text": [
            "time: 16.4 s (started: 2021-05-24 02:58:49 +00:00)\n"
          ],
          "name": "stdout"
        }
      ]
    },
    {
      "cell_type": "code",
      "metadata": {
        "id": "eyQZ6XdHNgeM",
        "colab": {
          "base_uri": "https://localhost:8080/"
        },
        "outputId": "2045ac1e-c2db-4cb9-f0a6-be191788b852"
      },
      "source": [
        "from google.colab import drive\n",
        "drive.mount('/content/drive')"
      ],
      "execution_count": null,
      "outputs": [
        {
          "output_type": "stream",
          "text": [
            "Drive already mounted at /content/drive; to attempt to forcibly remount, call drive.mount(\"/content/drive\", force_remount=True).\n",
            "time: 3.47 ms (started: 2021-05-24 02:59:10 +00:00)\n"
          ],
          "name": "stdout"
        }
      ]
    },
    {
      "cell_type": "code",
      "metadata": {
        "colab": {
          "base_uri": "https://localhost:8080/"
        },
        "id": "kPe9uscYXuS2",
        "outputId": "9f1a062d-6373-4ee1-8bb2-0ed82763f23d"
      },
      "source": [
        "#Splitting Data into training and testing\n",
        "\n",
        "from sklearn.model_selection import train_test_split\n",
        "x_train,x_test,y_train,y_test = train_test_split(flat_data,target,test_size=0.3,random_state=109)\n",
        "\n"
      ],
      "execution_count": null,
      "outputs": [
        {
          "output_type": "stream",
          "text": [
            "time: 16 ms (started: 2021-05-24 02:59:16 +00:00)\n"
          ],
          "name": "stdout"
        }
      ]
    },
    {
      "cell_type": "code",
      "metadata": {
        "id": "M95Bi_cyZHit",
        "colab": {
          "base_uri": "https://localhost:8080/"
        },
        "outputId": "35e57598-5093-4b74-bed8-7a3535a2e489"
      },
      "source": [
        "from sklearn.model_selection import GridSearchCV\n",
        "from sklearn import svm\n",
        "param_grid = [\n",
        "              { 'C':[1,10,100,1000], 'kernel':['linear']},\n",
        "              { 'C':[1,10,100,1000], 'gamma':[0.001,0.0001],'kernel':['rbf']},\n",
        "\n",
        "]\n",
        "\n",
        "svc = svm.SVC(probability=True)\n",
        "clf = GridSearchCV(svc,param_grid)\n",
        "clf.fit(x_train,y_train)"
      ],
      "execution_count": null,
      "outputs": [
        {
          "output_type": "execute_result",
          "data": {
            "text/plain": [
              "GridSearchCV(cv=None, error_score=nan,\n",
              "             estimator=SVC(C=1.0, break_ties=False, cache_size=200,\n",
              "                           class_weight=None, coef0=0.0,\n",
              "                           decision_function_shape='ovr', degree=3,\n",
              "                           gamma='scale', kernel='rbf', max_iter=-1,\n",
              "                           probability=True, random_state=None, shrinking=True,\n",
              "                           tol=0.001, verbose=False),\n",
              "             iid='deprecated', n_jobs=None,\n",
              "             param_grid=[{'C': [1, 10, 100, 1000], 'kernel': ['linear']},\n",
              "                         {'C': [1, 10, 100, 1000], 'gamma': [0.001, 0.0001],\n",
              "                          'kernel': ['rbf']}],\n",
              "             pre_dispatch='2*n_jobs', refit=True, return_train_score=False,\n",
              "             scoring=None, verbose=0)"
            ]
          },
          "metadata": {
            "tags": []
          },
          "execution_count": 36
        },
        {
          "output_type": "stream",
          "text": [
            "time: 34.5 s (started: 2021-05-24 02:59:20 +00:00)\n"
          ],
          "name": "stdout"
        }
      ]
    },
    {
      "cell_type": "code",
      "metadata": {
        "colab": {
          "base_uri": "https://localhost:8080/"
        },
        "id": "CTrgU_tDbzZX",
        "outputId": "68ec441c-68cc-4994-a296-eb7b8140c2b3"
      },
      "source": [
        "y_pred = clf.predict(x_test)\n",
        "y_pred"
      ],
      "execution_count": null,
      "outputs": [
        {
          "output_type": "execute_result",
          "data": {
            "text/plain": [
              "array([1, 0, 0, 1, 0, 0, 1, 0, 0, 1, 1, 1, 1, 1, 1, 1, 0, 0, 1, 1])"
            ]
          },
          "metadata": {
            "tags": []
          },
          "execution_count": 37
        },
        {
          "output_type": "stream",
          "text": [
            "time: 42 ms (started: 2021-05-24 02:59:59 +00:00)\n"
          ],
          "name": "stdout"
        }
      ]
    },
    {
      "cell_type": "code",
      "metadata": {
        "colab": {
          "base_uri": "https://localhost:8080/"
        },
        "id": "x3-DkpZucldU",
        "outputId": "a1fd390b-0a74-4c28-9715-a0a947d08dbd"
      },
      "source": [
        "y_test"
      ],
      "execution_count": null,
      "outputs": [
        {
          "output_type": "execute_result",
          "data": {
            "text/plain": [
              "array([1, 0, 0, 1, 0, 0, 1, 0, 0, 1, 1, 1, 1, 0, 1, 0, 0, 0, 1, 1])"
            ]
          },
          "metadata": {
            "tags": []
          },
          "execution_count": 38
        },
        {
          "output_type": "stream",
          "text": [
            "time: 4.86 ms (started: 2021-05-24 03:00:02 +00:00)\n"
          ],
          "name": "stdout"
        }
      ]
    },
    {
      "cell_type": "code",
      "metadata": {
        "colab": {
          "base_uri": "https://localhost:8080/"
        },
        "id": "vMLPUUXjcm2f",
        "outputId": "7952d4e2-13ba-4ba0-c69a-2feec09647fc"
      },
      "source": [
        "from sklearn.metrics import accuracy_score , confusion_matrix\n",
        "accuracy_score(y_pred,y_test)\n",
        "\n",
        "#Accuracy \n"
      ],
      "execution_count": null,
      "outputs": [
        {
          "output_type": "execute_result",
          "data": {
            "text/plain": [
              "0.9"
            ]
          },
          "metadata": {
            "tags": []
          },
          "execution_count": 39
        },
        {
          "output_type": "stream",
          "text": [
            "time: 7.45 ms (started: 2021-05-24 03:00:10 +00:00)\n"
          ],
          "name": "stdout"
        }
      ]
    },
    {
      "cell_type": "code",
      "metadata": {
        "colab": {
          "base_uri": "https://localhost:8080/"
        },
        "id": "MOd0S-VWdBpg",
        "outputId": "0ebe5bf5-a83e-4fdc-d3e7-35904e9062eb"
      },
      "source": [
        "confusion_matrix(y_pred,y_test)"
      ],
      "execution_count": null,
      "outputs": [
        {
          "output_type": "execute_result",
          "data": {
            "text/plain": [
              "array([[ 8,  0],\n",
              "       [ 2, 10]])"
            ]
          },
          "metadata": {
            "tags": []
          },
          "execution_count": 40
        },
        {
          "output_type": "stream",
          "text": [
            "time: 11 ms (started: 2021-05-24 03:00:20 +00:00)\n"
          ],
          "name": "stdout"
        }
      ]
    },
    {
      "cell_type": "code",
      "metadata": {
        "colab": {
          "base_uri": "https://localhost:8080/"
        },
        "id": "rzpesB6VdKtj",
        "outputId": "bf7a8a37-63b4-4223-808d-410291d4d14b"
      },
      "source": [
        "import pickle\n",
        "pickle.dump(clf,open('img_model.p', 'wb'))"
      ],
      "execution_count": null,
      "outputs": [
        {
          "output_type": "stream",
          "text": [
            "time: 20.7 ms (started: 2021-05-24 03:00:23 +00:00)\n"
          ],
          "name": "stdout"
        }
      ]
    },
    {
      "cell_type": "code",
      "metadata": {
        "colab": {
          "base_uri": "https://localhost:8080/"
        },
        "id": "uBoth1XPdkUB",
        "outputId": "a17c3bcd-33e2-4520-cab8-406faa300678"
      },
      "source": [
        "model = pickle.load(open('img_model.p','rb'))"
      ],
      "execution_count": null,
      "outputs": [
        {
          "output_type": "stream",
          "text": [
            "time: 8.39 ms (started: 2021-05-24 03:00:26 +00:00)\n"
          ],
          "name": "stdout"
        }
      ]
    },
    {
      "cell_type": "code",
      "metadata": {
        "colab": {
          "base_uri": "https://localhost:8080/",
          "height": 339
        },
        "id": "j2G4utNreN70",
        "outputId": "ea9a1d82-36b4-4ed1-8972-8e46815ca284"
      },
      "source": [
        "#Testing with an image\n",
        "flat_data = []\n",
        "url = input(\"Enter your URL\")\n",
        "img = imread(url)\n",
        "img_resized = resize(img,(150,150,3))\n",
        "flat_data.append(img_resized.flatten())\n",
        "flat_data = np.array(flat_data)\n",
        "print(img.shape)\n",
        "plt.imshow(img_resized)\n",
        "y_out = model.predict(flat_data)\n",
        "y_out = CATEGORIES[y_out[0]]\n",
        "print(f'Predicted Output:{y_out}')"
      ],
      "execution_count": null,
      "outputs": [
        {
          "output_type": "stream",
          "text": [
            "Enter your URLhttps://cdn11.bigcommerce.com/s-nq6l4syi/images/stencil/1280x1280/products/6639/200017/33234-1024__01036.1603540839.jpg?c=2?imbypass=on\n",
            "(1028, 1280, 3)\n",
            "Predicted Output:Dolphin jumping\n"
          ],
          "name": "stdout"
        },
        {
          "output_type": "display_data",
          "data": {
            "image/png": "[encoded data removed]",
            "text/plain": [
              "<Figure size 432x288 with 1 Axes>"
            ]
          },
          "metadata": {
            "tags": [],
            "needs_background": "light"
          }
        },
        {
          "output_type": "stream",
          "text": [
            "time: 4.84 s (started: 2021-05-24 03:01:24 +00:00)\n"
          ],
          "name": "stdout"
        }
      ]
    }
  ]
}